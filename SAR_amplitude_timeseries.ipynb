{
 "cells": [
  {
   "cell_type": "code",
   "execution_count": 100,
   "id": "c4b7ef25",
   "metadata": {},
   "outputs": [
    {
     "name": "stdout",
     "output_type": "stream",
     "text": [
      "Defaulting to user installation because normal site-packages is not writeable\n",
      "Requirement already satisfied: ipyleaflet in /home/ddekler/.local/lib/python3.10/site-packages (0.19.1)\n",
      "Requirement already satisfied: ipympl in /home/ddekler/.local/lib/python3.10/site-packages (0.9.4)\n",
      "Requirement already satisfied: branca>=0.5.0 in /home/ddekler/.local/lib/python3.10/site-packages (from ipyleaflet) (0.7.2)\n",
      "Requirement already satisfied: xyzservices>=2021.8.1 in /usr/lib/python3/dist-packages (from ipyleaflet) (2023.10.1)\n",
      "Requirement already satisfied: traittypes<3,>=0.2.1 in /home/ddekler/.local/lib/python3.10/site-packages (from ipyleaflet) (0.2.1)\n",
      "Requirement already satisfied: jupyter-leaflet<0.20,>=0.19 in /home/ddekler/.local/lib/python3.10/site-packages (from ipyleaflet) (0.19.1)\n",
      "Requirement already satisfied: ipywidgets<9,>=7.6.0 in /home/ddekler/.local/lib/python3.10/site-packages (from ipyleaflet) (8.1.3)\n",
      "Requirement already satisfied: pillow in /usr/lib/python3/dist-packages (from ipympl) (9.0.1)\n",
      "Requirement already satisfied: ipython-genutils in /usr/lib/python3/dist-packages (from ipympl) (0.2.0)\n",
      "Requirement already satisfied: ipython<9 in /usr/lib/python3/dist-packages (from ipympl) (7.31.1)\n",
      "Requirement already satisfied: matplotlib<4,>=3.4.0 in /usr/lib/python3/dist-packages (from ipympl) (3.5.1)\n",
      "Requirement already satisfied: traitlets<6 in /usr/lib/python3/dist-packages (from ipympl) (5.1.1)\n",
      "Requirement already satisfied: numpy in /usr/lib/python3/dist-packages (from ipympl) (1.21.5)\n",
      "Requirement already satisfied: jinja2>=3 in /usr/lib/python3/dist-packages (from branca>=0.5.0->ipyleaflet) (3.0.3)\n",
      "Requirement already satisfied: comm>=0.1.3 in /home/ddekler/.local/lib/python3.10/site-packages (from ipywidgets<9,>=7.6.0->ipyleaflet) (0.2.2)\n",
      "Requirement already satisfied: jupyterlab-widgets~=3.0.11 in /home/ddekler/.local/lib/python3.10/site-packages (from ipywidgets<9,>=7.6.0->ipyleaflet) (3.0.11)\n",
      "Requirement already satisfied: widgetsnbextension~=4.0.11 in /home/ddekler/.local/lib/python3.10/site-packages (from ipywidgets<9,>=7.6.0->ipyleaflet) (4.0.11)\n"
     ]
    }
   ],
   "source": [
    "import os\n",
    "import sys\n",
    "import glob\n",
    "\n",
    "# Set the path to the directory with GeoTiff files\n",
    "folder_path = 'SAR_amplitude'\n",
    "\n",
    "if not os.path.isdir(folder_path):\n",
    "    raise ValueError('folder_path should be set a directory.')\n",
    "\n",
    "\n",
    "## Get a list of geotiff files\n",
    "geotiff_files = glob.glob(os.path.join(folder_path, '*.tif'))\n",
    "geotiff_files.sort()\n",
    "if len(geotiff_files) == 0:\n",
    "    raise ValueError('folder_path does not contain any GeoTiff files.')\n",
    "\n",
    "# Install packages\n",
    "!{sys.executable} -m pip install ipyleaflet ipympl\n",
    "\n",
    "%matplotlib widget"
   ]
  },
  {
   "cell_type": "code",
   "execution_count": 103,
   "id": "d417eb79",
   "metadata": {},
   "outputs": [],
   "source": [
    "import matplotlib.pyplot as plt\n",
    "from datetime import datetime\n",
    "\n",
    "def geographic_to_pixel(dataset, lon, lat):\n",
    "    \"\"\"\n",
    "    Convert geographic coordinates to pixel coordinates.\n",
    "\n",
    "    Parameters:\n",
    "    dataset (rasterio.DatasetReader): The opened GeoTIFF file.\n",
    "    lon (float): Longitude of the geographic location.\n",
    "    lat (float): Latitude of the geographic location.\n",
    "\n",
    "    Returns:\n",
    "    (int, int): The (row, col) location of the pixel.\n",
    "    \"\"\"\n",
    "    transform = dataset.transform\n",
    "    col, row = ~transform * (lon, lat)\n",
    "    return int(row), int(col)\n",
    "\n",
    "class Timeseries:\n",
    "    \"\"\"Class which keeps track of user interaction with the map and the generated time series\"\"\"\n",
    "    \n",
    "    def __init__(self):\n",
    "        self.data = gpd.GeoDataFrame([datetime(1970,1,1)] * len(geotiff_files), columns=['date'])\n",
    "        self.coordinate_count = 0\n",
    "        self.coordinates = []\n",
    "        self.fig = plt.figure()\n",
    "        for i, geotiff_file in enumerate(geotiff_files):\n",
    "    \n",
    "            # Add an entry in the dataframe\n",
    "            basename = os.path.basename(geotiff_file)\n",
    "            date = basename.split('.')[0]\n",
    "            self.data.loc[i] = datetime.strptime(os.path.basename(date), \"%Y%m%d\")\n",
    "            \n",
    "        #timeseries.data['date'] = timeseries.data['date_str'].apply(\n",
    "        #    lambda val: datetime.datetime.strptime(val, \"%Y%m%d\")\n",
    "        #)\n",
    "\n",
    "    \n",
    "    def click_event_handler(self, coordinates):\n",
    "        \"\"\"\n",
    "        Function called when the map is clicked.\n",
    "        \"\"\"\n",
    "        # TODO bounds check\n",
    "        self.coordinates.append(coordinates)\n",
    "        coord_label = f'values_{len(self.coordinates)}'\n",
    "\n",
    "        print(coordinates)\n",
    "        \n",
    "        for i, geotiff_file in enumerate(geotiff_files):\n",
    "            tiff_dataset = rasterio.open(geotiff_file)\n",
    "            row, col = geographic_to_pixel(tiff_dataset, coordinates[1], coordinates[0])\n",
    "            pixel_value = tiff_dataset.read(1)[row, col]\n",
    "            self.data.loc[i, coord_label] = pixel_value\n",
    "            #print(pixel_value)\n",
    "        \n",
    "        self.update_figure()\n",
    "\n",
    "    def update_figure(self):\n",
    "        #plt.figure(self.fig.number)\n",
    "        plt.clf()\n",
    "        for i, coord in enumerate(self.coordinates):\n",
    "            plt.plot(self.data['date'], self.data[f'values_{i+1}'], 'o')\n",
    "        \n",
    "\n",
    "    def interaction_event_handler(self):\n",
    "        def handler(**kwargs):\n",
    "            \"\"\"Function called when the user interacts with the map\"\"\"\n",
    "            if kwargs['type'] == 'click':\n",
    "                self.click_event_handler(kwargs['coordinates'])\n",
    "        return handler\n",
    "    "
   ]
  },
  {
   "cell_type": "code",
   "execution_count": 104,
   "id": "b8146487",
   "metadata": {},
   "outputs": [
    {
     "data": {
      "application/vnd.jupyter.widget-view+json": {
       "model_id": "42e22712d7154b2da0870571904abf7e",
       "version_major": 2,
       "version_minor": 0
      },
      "text/plain": [
       "Map(center=[0.0, 0.0], controls=(ZoomControl(options=['position', 'zoom_in_text', 'zoom_in_title', 'zoom_out_t…"
      ]
     },
     "execution_count": 104,
     "metadata": {},
     "output_type": "execute_result"
    },
    {
     "data": {
      "application/vnd.jupyter.widget-view+json": {
       "model_id": "08c49063df40479b8da7f87fad5691e4",
       "version_major": 2,
       "version_minor": 0
      },
      "image/png": "[encoded data removed]",
      "text/html": [
       "\n",
       "            <div style=\"display: inline-block;\">\n",
       "                <div class=\"jupyter-widgets widget-label\" style=\"text-align: center;\">\n",
       "                    Figure\n",
       "                </div>\n",
       "                <img src='data:image/png;base64,iVBORw0KGgoAAAANSUhEUgAAAoAAAAHgCAYAAAA10dzkAAAAOXRFWHRTb2Z0d2FyZQBNYXRwbG90bGliIHZlcnNpb24zLjUuMSwgaHR0cHM6Ly9tYXRwbG90bGliLm9yZy/YYfK9AAAACXBIWXMAAA9hAAAPYQGoP6dpAAAIyUlEQVR4nO3WMQEAIAzAMMC/5+ECjiYKenbPzCwAADLO7wAAAN4ygAAAMQYQACDGAAIAxBhAAIAYAwgAEGMAAQBiDCAAQIwBBACIMYAAADEGEAAgxgACAMQYQACAGAMIABBjAAEAYgwgAECMAQQAiDGAAAAxBhAAIMYAAgDEGEAAgBgDCAAQYwABAGIMIABAjAEEAIgxgAAAMQYQACDGAAIAxBhAAIAYAwgAEGMAAQBiDCAAQIwBBACIMYAAADEGEAAgxgACAMQYQACAGAMIABBjAAEAYgwgAECMAQQAiDGAAAAxBhAAIMYAAgDEGEAAgBgDCAAQYwABAGIMIABAjAEEAIgxgAAAMQYQACDGAAIAxBhAAIAYAwgAEGMAAQBiDCAAQIwBBACIMYAAADEGEAAgxgACAMQYQACAGAMIABBjAAEAYgwgAECMAQQAiDGAAAAxBhAAIMYAAgDEGEAAgBgDCAAQYwABAGIMIABAjAEEAIgxgAAAMQYQACDGAAIAxBhAAIAYAwgAEGMAAQBiDCAAQIwBBACIMYAAADEGEAAgxgACAMQYQACAGAMIABBjAAEAYgwgAECMAQQAiDGAAAAxBhAAIMYAAgDEGEAAgBgDCAAQYwABAGIMIABAjAEEAIgxgAAAMQYQACDGAAIAxBhAAIAYAwgAEGMAAQBiDCAAQIwBBACIMYAAADEGEAAgxgACAMQYQACAGAMIABBjAAEAYgwgAECMAQQAiDGAAAAxBhAAIMYAAgDEGEAAgBgDCAAQYwABAGIMIABAjAEEAIgxgAAAMQYQACDGAAIAxBhAAIAYAwgAEGMAAQBiDCAAQIwBBACIMYAAADEGEAAgxgACAMQYQACAGAMIABBjAAEAYgwgAECMAQQAiDGAAAAxBhAAIMYAAgDEGEAAgBgDCAAQYwABAGIMIABAjAEEAIgxgAAAMQYQACDGAAIAxBhAAIAYAwgAEGMAAQBiDCAAQIwBBACIMYAAADEGEAAgxgACAMQYQACAGAMIABBjAAEAYgwgAECMAQQAiDGAAAAxBhAAIMYAAgDEGEAAgBgDCAAQYwABAGIMIABAjAEEAIgxgAAAMQYQACDGAAIAxBhAAIAYAwgAEGMAAQBiDCAAQIwBBACIMYAAADEGEAAgxgACAMQYQACAGAMIABBjAAEAYgwgAECMAQQAiDGAAAAxBhAAIMYAAgDEGEAAgBgDCAAQYwABAGIMIABAjAEEAIgxgAAAMQYQACDGAAIAxBhAAIAYAwgAEGMAAQBiDCAAQIwBBACIMYAAADEGEAAgxgACAMQYQACAGAMIABBjAAEAYgwgAECMAQQAiDGAAAAxBhAAIMYAAgDEGEAAgBgDCAAQYwABAGIMIABAjAEEAIgxgAAAMQYQACDGAAIAxBhAAIAYAwgAEGMAAQBiDCAAQIwBBACIMYAAADEGEAAgxgACAMQYQACAGAMIABBjAAEAYgwgAECMAQQAiDGAAAAxBhAAIMYAAgDEGEAAgBgDCAAQYwABAGIMIABAjAEEAIgxgAAAMQYQACDGAAIAxBhAAIAYAwgAEGMAAQBiDCAAQIwBBACIMYAAADEGEAAgxgACAMQYQACAGAMIABBjAAEAYgwgAECMAQQAiDGAAAAxBhAAIMYAAgDEGEAAgBgDCAAQYwABAGIMIABAjAEEAIgxgAAAMQYQACDGAAIAxBhAAIAYAwgAEGMAAQBiDCAAQIwBBACIMYAAADEGEAAgxgACAMQYQACAGAMIABBjAAEAYgwgAECMAQQAiDGAAAAxBhAAIMYAAgDEGEAAgBgDCAAQYwABAGIMIABAjAEEAIgxgAAAMQYQACDGAAIAxBhAAIAYAwgAEGMAAQBiDCAAQIwBBACIMYAAADEGEAAgxgACAMQYQACAGAMIABBjAAEAYgwgAECMAQQAiDGAAAAxBhAAIMYAAgDEGEAAgBgDCAAQYwABAGIMIABAjAEEAIgxgAAAMQYQACDGAAIAxBhAAIAYAwgAEGMAAQBiDCAAQIwBBACIMYAAADEGEAAgxgACAMQYQACAGAMIABBjAAEAYgwgAECMAQQAiDGAAAAxBhAAIMYAAgDEGEAAgBgDCAAQYwABAGIMIABAjAEEAIgxgAAAMQYQACDGAAIAxBhAAIAYAwgAEGMAAQBiDCAAQIwBBACIMYAAADEGEAAgxgACAMQYQACAGAMIABBjAAEAYgwgAECMAQQAiDGAAAAxBhAAIMYAAgDEGEAAgBgDCAAQYwABAGIMIABAjAEEAIgxgAAAMQYQACDGAAIAxBhAAIAYAwgAEGMAAQBiDCAAQIwBBACIMYAAADEGEAAgxgACAMQYQACAGAMIABBjAAEAYgwgAECMAQQAiDGAAAAxBhAAIMYAAgDEGEAAgBgDCAAQYwABAGIMIABAjAEEAIgxgAAAMQYQACDGAAIAxBhAAIAYAwgAEGMAAQBiDCAAQIwBBACIMYAAADEGEAAgxgACAMQYQACAGAMIABBjAAEAYgwgAECMAQQAiDGAAAAxBhAAIMYAAgDEGEAAgBgDCAAQYwABAGIMIABAjAEEAIgxgAAAMQYQACDGAAIAxBhAAIAYAwgAEGMAAQBiDCAAQIwBBACIMYAAADEGEAAgxgACAMQYQACAGAMIABBjAAEAYgwgAECMAQQAiDGAAAAxBhAAIMYAAgDEGEAAgBgDCAAQYwABAGIMIABAjAEEAIgxgAAAMQYQACDGAAIAxBhAAIAYAwgAEGMAAQBiDCAAQIwBBACIMYAAADEGEAAgxgACAMQYQACAGAMIABBjAAEAYgwgAECMAQQAiDGAAAAxBhAAIMYAAgDEGEAAgBgDCAAQYwABAGIMIABAjAEEAIgxgAAAMQYQACDGAAIAxBhAAIAYAwgAEGMAAQBiDCAAQIwBBACIMYAAADEGEAAgxgACAMQYQACAGAMIABBjAAEAYgwgAECMAQQAiDGAAAAxBhAAIMYAAgDEGEAAgBgDCAAQYwABAGIuJnkHvKensmIAAAAASUVORK5CYII=' width=640.0/>\n",
       "            </div>\n",
       "        "
      ],
      "text/plain": [
       "Canvas(toolbar=Toolbar(toolitems=[('Home', 'Reset original view', 'home', 'home'), ('Back', 'Back to previous …"
      ]
     },
     "metadata": {},
     "output_type": "display_data"
    },
    {
     "name": "stdout",
     "output_type": "stream",
     "text": [
      "[26.86589349552882, 86.49110387407555]\n"
     ]
    }
   ],
   "source": [
    "from ipyleaflet import Map, basemaps, GeoData, Marker, Rectangle\n",
    "from ipywidgets import HTML\n",
    "\n",
    "import rasterio\n",
    "import geopandas as gpd\n",
    "\n",
    "## Create the map object\n",
    "map = Map(zoom=2, basemap=basemaps.OpenStreetMap.HOT, scroll_wheel_zoom=True)\n",
    "\n",
    "## Build a bounding box that contains the bounds of all the geotiff files.\n",
    "\n",
    "# Start with the bounds of the first file\n",
    "dataset = rasterio.open(geotiff_files[0])\n",
    "bounds = dataset.bounds\n",
    "\n",
    "for i, geotiff_file in enumerate(geotiff_files):\n",
    "    dataset = rasterio.open(geotiff_file)\n",
    "\n",
    "    # Join the bounds of the rest of the files\n",
    "    bounds = rasterio.coords.BoundingBox(\n",
    "        min(bounds.left, dataset.bounds.left),\n",
    "        min(bounds.bottom, dataset.bounds.bottom),\n",
    "        max(bounds.right, dataset.bounds.right),\n",
    "        max(bounds.top, dataset.bounds.top),\n",
    "    )\n",
    "\n",
    "timeseries = Timeseries()\n",
    "\n",
    "## Add the bounds to the map -- converting the rasterio.coords.BoundingBox object to ipyleaflet.Rectangle\n",
    "map.add(Rectangle(bounds=((bounds.bottom, bounds.left), (bounds.top, bounds.right))))\n",
    "\n",
    "## Add the event handler\n",
    "map.on_interaction(timeseries.interaction_event_handler())\n",
    "## Display the map\n",
    "map"
   ]
  },
  {
   "cell_type": "code",
   "execution_count": null,
   "id": "09b32a9c",
   "metadata": {},
   "outputs": [],
   "source": []
  }
 ],
 "metadata": {
  "kernelspec": {
   "display_name": "Python 3 (ipykernel)",
   "language": "python",
   "name": "python3"
  },
  "language_info": {
   "codemirror_mode": {
    "name": "ipython",
    "version": 3
   },
   "file_extension": ".py",
   "mimetype": "text/x-python",
   "name": "python",
   "nbconvert_exporter": "python",
   "pygments_lexer": "ipython3",
   "version": "3.10.12"
  }
 },
 "nbformat": 4,
 "nbformat_minor": 5
}
